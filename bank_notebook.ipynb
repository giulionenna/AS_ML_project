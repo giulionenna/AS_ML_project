{
 "cells": [
  {
   "attachments": {},
   "cell_type": "markdown",
   "metadata": {},
   "source": [
    "# Bank data Analysis\n",
    "\n",
    "## The Dataset\n",
    "The main goal of this report is to apply different machine learning tecniques to a [dataset](http://archive.ics.uci.edu/ml/datasets/Bank+Marketing) that can be found on the [UCI Machine Learning Repository](http://archive.ics.uci.edu/ml/index.php). The data is related with direct marketing campaigns (phone calls) of a Portuguese banking institution. Each entry represents a phone call to a client of whom several features are provided. The responce variable is binary (yes or no) and indicates whether a phone call successfully convinced the client to purchase a financial product the bank is tryng to sell (bank term deposit). Among the 20 provided features, 11 are categorical and the remaining are numerical. An extensive description of each feature will now follow.\n",
    "\n",
    "### Attribute information\n",
    "The following table provides an extensive overview about each attribute featured in the dataset.\n",
    "\n",
    "|Name|Description|Type|Possible values|\n",
    "|----|-----------|----|---------------|\n",
    "|Age|Age of each client|numeric|-|\n",
    "|Job| Type of job| categorical| Admn, blue-collar, entrepreneur...|whether\n",
    "|Marital| Marital Status| categorical | Divorced, married, single, unknown|\n",
    "|Education| level of education| categorical| basic.4y, basic.6y, basic.9y, high-school,...|\n",
    "|Default|whether a client has credit in default | Categorical | Yes, No, Unknown|\n",
    "|Housing| whether a client has an housing loan| Categorical | Yes, No, Unknown|\n",
    "|Loan| whether a client has a personal loan| Categorical | Yes, No, Unknown|\n",
    "|Contact| contact communication type| Categorical| cellular, telephone|\n",
    "|Month| last contact month of the yeah| Categorical | jan, feb, mar...|\n",
    "|Day of the week| last contact day of the week| Categorical | mon, tue, ...|\n",
    "|Duration| Last contact duration in seconds (see notes)| Numeric|-|\n",
    "|Campaign| number of contacts performed during this campaign for that client| Numeric| - |\n",
    "|pdays| number of days that passed by after the client was last contacted from a previous campaign| numeric|-|\n",
    "|previous| number of contacts performed before this campaign for this client| numeric|-|\n",
    "|poutcome| outcome of the previous marketing campaign| Categorical | Failure, nonexistent, success|\n",
    "|emp.var.rate| employment variation rate - quarterly indicator | Numeric |- |\n",
    "|cons.price.idx| consumer price index - monthly indicator | Numeric | - |\n",
    "|cons.conf.idx| consumer conficence index - monthly indicator | Numeric | - |\n",
    "|euribor3m | euribor 3 month rate - daily indicator | Numeric |\n",
    "|nr.employed| Number of employees - quarterly indicator | Numeric | - |\n",
    "|**Output variable**: y | Has the client subscribed a term deposit | Binary | yes, no|\n",
    "\n",
    "\n",
    "\n",
    "**Notes about certain features**\n",
    "\n",
    "- Attributes from _contact_ to _duration_ are related to the last contact of the current campaign\n",
    "- The attribure _duration_ affers to the call duration and it's not known untill the call is completed. It highly affects the prediction (e.g. if duration is $0$ then the outcome will always be not succesfull), hence it will be deleted if the model is meant to be deployed with real world data."
   ]
  },
  {
   "attachments": {},
   "cell_type": "markdown",
   "metadata": {},
   "source": [
    "## Data Preprocessing"
   ]
  },
  {
   "cell_type": "code",
   "execution_count": 20,
   "metadata": {},
   "outputs": [],
   "source": [
    "import numpy as np\n",
    "import pandas as pd\n",
    "import matplotlib.pyplot as plt\n",
    "from sklearn.preprocessing import OneHotEncoder\n",
    "from sklearn.preprocessing import MultiLabelBinarizer\n",
    "from sklearn.preprocessing import MinMaxScaler\n",
    "from sklearn.preprocessing import StandardScaler\n",
    "from sklearn.model_selection import train_test_split\n",
    "from sklearn.metrics import confusion_matrix\n",
    "from sklearn.ensemble import RandomForestClassifier\n",
    "from sklearn.svm import SVC\n",
    "from sklearn.linear_model import LogisticRegression\n",
    "from sklearn.decomposition import PCA\n",
    "from sklearn.cluster import KMeans\n",
    "from IPython.display import display"
   ]
  },
  {
   "attachments": {},
   "cell_type": "markdown",
   "metadata": {},
   "source": [
    "First we import the dataset and encode each categorical feature using _one-hot encoding_"
   ]
  },
  {
   "cell_type": "code",
   "execution_count": 21,
   "metadata": {},
   "outputs": [
    {
     "data": {
      "text/html": [
       "<div>\n",
       "<style scoped>\n",
       "    .dataframe tbody tr th:only-of-type {\n",
       "        vertical-align: middle;\n",
       "    }\n",
       "\n",
       "    .dataframe tbody tr th {\n",
       "        vertical-align: top;\n",
       "    }\n",
       "\n",
       "    .dataframe thead th {\n",
       "        text-align: right;\n",
       "    }\n",
       "</style>\n",
       "<table border=\"1\" class=\"dataframe\">\n",
       "  <thead>\n",
       "    <tr style=\"text-align: right;\">\n",
       "      <th></th>\n",
       "      <th>age</th>\n",
       "      <th>job</th>\n",
       "      <th>marital</th>\n",
       "      <th>education</th>\n",
       "      <th>default</th>\n",
       "      <th>housing</th>\n",
       "      <th>loan</th>\n",
       "      <th>contact</th>\n",
       "      <th>month</th>\n",
       "      <th>day_of_week</th>\n",
       "      <th>...</th>\n",
       "      <th>campaign</th>\n",
       "      <th>pdays</th>\n",
       "      <th>previous</th>\n",
       "      <th>poutcome</th>\n",
       "      <th>emp.var.rate</th>\n",
       "      <th>cons.price.idx</th>\n",
       "      <th>cons.conf.idx</th>\n",
       "      <th>euribor3m</th>\n",
       "      <th>nr.employed</th>\n",
       "      <th>y</th>\n",
       "    </tr>\n",
       "  </thead>\n",
       "  <tbody>\n",
       "    <tr>\n",
       "      <th>0</th>\n",
       "      <td>56</td>\n",
       "      <td>housemaid</td>\n",
       "      <td>married</td>\n",
       "      <td>basic.4y</td>\n",
       "      <td>no</td>\n",
       "      <td>no</td>\n",
       "      <td>no</td>\n",
       "      <td>telephone</td>\n",
       "      <td>may</td>\n",
       "      <td>mon</td>\n",
       "      <td>...</td>\n",
       "      <td>1</td>\n",
       "      <td>999</td>\n",
       "      <td>0</td>\n",
       "      <td>nonexistent</td>\n",
       "      <td>1.1</td>\n",
       "      <td>93.994</td>\n",
       "      <td>-36.4</td>\n",
       "      <td>4.857</td>\n",
       "      <td>5191.0</td>\n",
       "      <td>no</td>\n",
       "    </tr>\n",
       "    <tr>\n",
       "      <th>1</th>\n",
       "      <td>57</td>\n",
       "      <td>services</td>\n",
       "      <td>married</td>\n",
       "      <td>high.school</td>\n",
       "      <td>unknown</td>\n",
       "      <td>no</td>\n",
       "      <td>no</td>\n",
       "      <td>telephone</td>\n",
       "      <td>may</td>\n",
       "      <td>mon</td>\n",
       "      <td>...</td>\n",
       "      <td>1</td>\n",
       "      <td>999</td>\n",
       "      <td>0</td>\n",
       "      <td>nonexistent</td>\n",
       "      <td>1.1</td>\n",
       "      <td>93.994</td>\n",
       "      <td>-36.4</td>\n",
       "      <td>4.857</td>\n",
       "      <td>5191.0</td>\n",
       "      <td>no</td>\n",
       "    </tr>\n",
       "    <tr>\n",
       "      <th>2</th>\n",
       "      <td>37</td>\n",
       "      <td>services</td>\n",
       "      <td>married</td>\n",
       "      <td>high.school</td>\n",
       "      <td>no</td>\n",
       "      <td>yes</td>\n",
       "      <td>no</td>\n",
       "      <td>telephone</td>\n",
       "      <td>may</td>\n",
       "      <td>mon</td>\n",
       "      <td>...</td>\n",
       "      <td>1</td>\n",
       "      <td>999</td>\n",
       "      <td>0</td>\n",
       "      <td>nonexistent</td>\n",
       "      <td>1.1</td>\n",
       "      <td>93.994</td>\n",
       "      <td>-36.4</td>\n",
       "      <td>4.857</td>\n",
       "      <td>5191.0</td>\n",
       "      <td>no</td>\n",
       "    </tr>\n",
       "    <tr>\n",
       "      <th>3</th>\n",
       "      <td>40</td>\n",
       "      <td>admin.</td>\n",
       "      <td>married</td>\n",
       "      <td>basic.6y</td>\n",
       "      <td>no</td>\n",
       "      <td>no</td>\n",
       "      <td>no</td>\n",
       "      <td>telephone</td>\n",
       "      <td>may</td>\n",
       "      <td>mon</td>\n",
       "      <td>...</td>\n",
       "      <td>1</td>\n",
       "      <td>999</td>\n",
       "      <td>0</td>\n",
       "      <td>nonexistent</td>\n",
       "      <td>1.1</td>\n",
       "      <td>93.994</td>\n",
       "      <td>-36.4</td>\n",
       "      <td>4.857</td>\n",
       "      <td>5191.0</td>\n",
       "      <td>no</td>\n",
       "    </tr>\n",
       "    <tr>\n",
       "      <th>4</th>\n",
       "      <td>56</td>\n",
       "      <td>services</td>\n",
       "      <td>married</td>\n",
       "      <td>high.school</td>\n",
       "      <td>no</td>\n",
       "      <td>no</td>\n",
       "      <td>yes</td>\n",
       "      <td>telephone</td>\n",
       "      <td>may</td>\n",
       "      <td>mon</td>\n",
       "      <td>...</td>\n",
       "      <td>1</td>\n",
       "      <td>999</td>\n",
       "      <td>0</td>\n",
       "      <td>nonexistent</td>\n",
       "      <td>1.1</td>\n",
       "      <td>93.994</td>\n",
       "      <td>-36.4</td>\n",
       "      <td>4.857</td>\n",
       "      <td>5191.0</td>\n",
       "      <td>no</td>\n",
       "    </tr>\n",
       "  </tbody>\n",
       "</table>\n",
       "<p>5 rows × 21 columns</p>\n",
       "</div>"
      ],
      "text/plain": [
       "   age        job  marital    education  default housing loan    contact  \\\n",
       "0   56  housemaid  married     basic.4y       no      no   no  telephone   \n",
       "1   57   services  married  high.school  unknown      no   no  telephone   \n",
       "2   37   services  married  high.school       no     yes   no  telephone   \n",
       "3   40     admin.  married     basic.6y       no      no   no  telephone   \n",
       "4   56   services  married  high.school       no      no  yes  telephone   \n",
       "\n",
       "  month day_of_week  ...  campaign  pdays  previous     poutcome emp.var.rate  \\\n",
       "0   may         mon  ...         1    999         0  nonexistent          1.1   \n",
       "1   may         mon  ...         1    999         0  nonexistent          1.1   \n",
       "2   may         mon  ...         1    999         0  nonexistent          1.1   \n",
       "3   may         mon  ...         1    999         0  nonexistent          1.1   \n",
       "4   may         mon  ...         1    999         0  nonexistent          1.1   \n",
       "\n",
       "   cons.price.idx  cons.conf.idx  euribor3m  nr.employed   y  \n",
       "0          93.994          -36.4      4.857       5191.0  no  \n",
       "1          93.994          -36.4      4.857       5191.0  no  \n",
       "2          93.994          -36.4      4.857       5191.0  no  \n",
       "3          93.994          -36.4      4.857       5191.0  no  \n",
       "4          93.994          -36.4      4.857       5191.0  no  \n",
       "\n",
       "[5 rows x 21 columns]"
      ]
     },
     "metadata": {},
     "output_type": "display_data"
    }
   ],
   "source": [
    "df = pd.read_csv('Data/bank/bank-additional-full.csv', sep=';')\n",
    "display(df.head())\n",
    "cat_col = df.dtypes=='O'\n",
    "df_enc = pd.get_dummies(df.loc[:, cat_col], prefix=df.columns[cat_col])\n",
    "df_enc = df_enc.join(df.loc[:, np.logical_not(cat_col)])\n",
    "\n",
    "df_enc = df_enc.drop('y_no', axis=1) #deleting column since attribute \"y\" is binary\n",
    "df_enc = df_enc.drop('duration', axis = 1) #drop the duration column (see attribute information)\n"
   ]
  },
  {
   "cell_type": "code",
   "execution_count": null,
   "metadata": {},
   "outputs": [],
   "source": []
  },
  {
   "cell_type": "code",
   "execution_count": 22,
   "metadata": {},
   "outputs": [
    {
     "name": "stdout",
     "output_type": "stream",
     "text": [
      "Original training dataset has 37069 Observations. \n",
      " Among them 4178 are positive and 32891 are negative \n",
      " Performing dataset rebalancing by undersampling... \n",
      "\n",
      "\n",
      "Training Dataset rebalancing performed. Dataset has now 7885 Observations. \n",
      " Among them 4178 are positive and 3707 are negative \n",
      "\n",
      "\n"
     ]
    }
   ],
   "source": [
    "df_train, df_test = train_test_split(df_enc, test_size=0.1, random_state=42)\n",
    "\n",
    "\n",
    "response = df_train['y_yes']\n",
    "feature_matrix = df_train.loc[:, df_train.columns!='y_yes']\n",
    "\n",
    "#rebalancing classes (y_yes=1 is the minority class)--------\n",
    "ratio = df_train['y_yes'].sum()/df_train['y_yes'].size\n",
    "print(\"Original training dataset has\", df_train.index.size, \"Observations. \\n\", \"Among them\", response.sum(), \"are positive and\", response.size-response.sum(), \"are negative \\n Performing dataset rebalancing by undersampling... \\n\\n\" )\n",
    "df_train_false = df_train.loc[response==0, :]\n",
    "df_train_false_resampled = df_train_false.sample(frac=ratio)\n",
    "\n",
    "df_train_true = df_train.loc[response==1,:]\n",
    "\n",
    "df_train = pd.concat([df_train_true, df_train_false_resampled])\n",
    "ratio = df_train['y_yes'].sum()/df_train['y_yes'].size\n",
    "\n",
    "response = df_train['y_yes']\n",
    "feature_matrix = df_train.loc[:, df_enc.columns!='y_yes']\n",
    "\n",
    "print(\"Training Dataset rebalancing performed. Dataset has now\", df_train.index.size, \"Observations. \\n\", \"Among them\", response.sum(), \"are positive and\", response.size-response.sum(), \"are negative \\n\\n\" )\n",
    "\n",
    "X_train = df_train.loc[:, df_train.columns!='y_yes']\n",
    "X_test = df_test.loc[:, df_test.columns!='y_yes']\n",
    "y_train = df_train['y_yes']\n",
    "y_test = df_test['y_yes']\n",
    "\n"
   ]
  },
  {
   "cell_type": "code",
   "execution_count": 23,
   "metadata": {},
   "outputs": [
    {
     "name": "stdout",
     "output_type": "stream",
     "text": [
      "Variance explayned by the first 20  components is : 0.831050440502988 For data scaled with MinMax scaler\n",
      "Variance explayned by the first 20  components is : 0.6360509864373972 For data scaled with std scaler\n"
     ]
    },
    {
     "data": {
      "image/png": "[encoded data removed]",
      "text/plain": [
       "<Figure size 720x360 with 2 Axes>"
      ]
     },
     "metadata": {
      "needs_background": "light"
     },
     "output_type": "display_data"
    }
   ],
   "source": [
    "#Performing scaling and pca using min max scaler\n",
    "scaler_mm = MinMaxScaler()\n",
    "scaler_mm.fit(X_train)\n",
    "\n",
    "X_train_scaled_mm = scaler_mm.transform(X_train)\n",
    "X_test_scaled_mm = scaler_mm.transform(X_test)\n",
    "\n",
    "pca_mm = PCA()\n",
    "pca_mm.fit(X_train_scaled_mm)\n",
    "var_mm = pca_mm.explained_variance_ratio_\n",
    "\n",
    "#performing scaling and pca using std scaler\n",
    "scaler_std = StandardScaler()\n",
    "scaler_std.fit(X_train)\n",
    "\n",
    "X_train_scaled_std = scaler_std.transform(X_train)\n",
    "X_test_scaled_std = scaler_std.transform(X_test)\n",
    "\n",
    "pca_std = PCA()\n",
    "pca_std.fit(X_train_scaled_std)\n",
    "var_std = pca_std.explained_variance_ratio_\n",
    "\n",
    "\n",
    "\n",
    "#plotting cumulative variance comparing the two scalers\n",
    "fig, axs = plt.subplots(1,2)\n",
    "fig.set_size_inches(10,5)\n",
    "fig.suptitle('Cumulative Variance Ratio Explained by PCA')\n",
    "axs[0].plot(var_mm.cumsum())\n",
    "axs[0].grid(True)\n",
    "axs[0].set_ylabel('Variance ratio')\n",
    "axs[0].set_xlabel('# of components')\n",
    "axs[0].set_title('data scaled with MinMax Scaler')\n",
    "axs[1].plot(var_std.cumsum())\n",
    "axs[1].grid(True)\n",
    "axs[1].set_ylabel('Variance ratio')\n",
    "axs[1].set_xlabel('# of components')\n",
    "axs[1].set_title('data scaled with Std Scaler')\n",
    "\n",
    "#scegliamo di prendere le prime 20 componenti\n",
    "n_components=20\n",
    "print(\"Variance explayned by the first\", n_components, \" components is :\", var_mm.cumsum()[n_components-1], \"For data scaled with MinMax scaler\")\n",
    "print(\"Variance explayned by the first\", n_components, \" components is :\", var_std.cumsum()[n_components-1], \"For data scaled with std scaler\")\n",
    "\n",
    "X_train_scaled_mm_pca = pca_mm.transform(X_train_scaled_mm)[:, :n_components]\n",
    "X_test_scaled_mm_pca = pca_mm.transform(X_test_scaled_mm)[:, :n_components]"
   ]
  },
  {
   "cell_type": "code",
   "execution_count": 24,
   "metadata": {},
   "outputs": [
    {
     "data": {
      "text/plain": [
       "<matplotlib.collections.PathCollection at 0x212a5ba7760>"
      ]
     },
     "execution_count": 24,
     "metadata": {},
     "output_type": "execute_result"
    },
    {
     "data": {
      "image/png": "[encoded data removed]",
      "text/plain": [
       "<Figure size 432x288 with 1 Axes>"
      ]
     },
     "metadata": {
      "needs_background": "light"
     },
     "output_type": "display_data"
    }
   ],
   "source": [
    "plt.scatter(X_train_scaled_mm_pca[:,0],X_train_scaled_mm_pca[:,1], c=y_train)"
   ]
  },
  {
   "cell_type": "code",
   "execution_count": null,
   "metadata": {},
   "outputs": [],
   "source": []
  },
  {
   "cell_type": "code",
   "execution_count": 25,
   "metadata": {},
   "outputs": [
    {
     "data": {
      "text/plain": [
       "array([[2987,  670],\n",
       "       [ 156,  306]], dtype=int64)"
      ]
     },
     "execution_count": 25,
     "metadata": {},
     "output_type": "execute_result"
    }
   ],
   "source": [
    "clf = SVC()\n",
    "clf.fit(X_train_scaled_mm_pca, y_train)\n",
    "score_svc = clf.score(X_test_scaled_mm_pca, y_test)\n",
    "confusion_matrix(y_test, clf.predict(X_test_scaled_mm_pca))\n"
   ]
  },
  {
   "cell_type": "code",
   "execution_count": 26,
   "metadata": {},
   "outputs": [
    {
     "name": "stderr",
     "output_type": "stream",
     "text": [
      "[Parallel(n_jobs=10)]: Using backend ThreadingBackend with 10 concurrent workers.\n",
      "[Parallel(n_jobs=10)]: Done  30 tasks      | elapsed:    0.0s\n",
      "[Parallel(n_jobs=10)]: Done 100 out of 100 | elapsed:    0.1s finished\n",
      "[Parallel(n_jobs=10)]: Using backend ThreadingBackend with 10 concurrent workers.\n",
      "[Parallel(n_jobs=10)]: Done  30 tasks      | elapsed:    0.0s\n",
      "[Parallel(n_jobs=10)]: Done 100 out of 100 | elapsed:    0.0s finished\n",
      "[Parallel(n_jobs=10)]: Using backend ThreadingBackend with 10 concurrent workers.\n",
      "[Parallel(n_jobs=10)]: Done  30 tasks      | elapsed:    0.0s\n",
      "[Parallel(n_jobs=10)]: Done 100 out of 100 | elapsed:    0.0s finished\n"
     ]
    },
    {
     "data": {
      "text/plain": [
       "array([[2864,  793],\n",
       "       [ 149,  313]], dtype=int64)"
      ]
     },
     "execution_count": 26,
     "metadata": {},
     "output_type": "execute_result"
    }
   ],
   "source": [
    "clf = RandomForestClassifier(verbose = 1, n_jobs=10)\n",
    "clf.fit(X_train_scaled_mm, y_train)\n",
    "score_rfc = clf.score(X_test_scaled_mm, y_test)\n",
    "confusion_matrix(y_test, clf.predict(X_test_scaled_mm))"
   ]
  },
  {
   "cell_type": "code",
   "execution_count": 27,
   "metadata": {},
   "outputs": [
    {
     "name": "stderr",
     "output_type": "stream",
     "text": [
      "c:\\Users\\giuli\\AppData\\Local\\Programs\\Python\\Python39\\lib\\site-packages\\sklearn\\linear_model\\_logistic.py:763: ConvergenceWarning: lbfgs failed to converge (status=1):\n",
      "STOP: TOTAL NO. of ITERATIONS REACHED LIMIT.\n",
      "\n",
      "Increase the number of iterations (max_iter) or scale the data as shown in:\n",
      "    https://scikit-learn.org/stable/modules/preprocessing.html\n",
      "Please also refer to the documentation for alternative solver options:\n",
      "    https://scikit-learn.org/stable/modules/linear_model.html#logistic-regression\n",
      "  n_iter_i = _check_optimize_result(\n"
     ]
    },
    {
     "data": {
      "text/plain": [
       "array([[2990,  667],\n",
       "       [ 150,  312]], dtype=int64)"
      ]
     },
     "execution_count": 27,
     "metadata": {},
     "output_type": "execute_result"
    }
   ],
   "source": [
    "X_test = X_test_scaled_mm\n",
    "X_train = X_train_scaled_mm\n",
    "\n",
    "clf = LogisticRegression()\n",
    "clf.fit(X_train, y_train)\n",
    "score_logreg = clf.score(X_test, y_test)\n",
    "confusion_matrix(y_test, clf.predict(X_test))\n",
    "\n",
    "#clf.predict_proba(X_test)\n",
    "#plt.plot(clf.predict_proba(X_test))"
   ]
  },
  {
   "cell_type": "code",
   "execution_count": 28,
   "metadata": {},
   "outputs": [
    {
     "data": {
      "text/plain": [
       "462"
      ]
     },
     "execution_count": 28,
     "metadata": {},
     "output_type": "execute_result"
    }
   ],
   "source": [
    "y_test.sum()"
   ]
  }
 ],
 "metadata": {
  "kernelspec": {
   "display_name": "Python 3",
   "language": "python",
   "name": "python3"
  },
  "language_info": {
   "codemirror_mode": {
    "name": "ipython",
    "version": 3
   },
   "file_extension": ".py",
   "mimetype": "text/x-python",
   "name": "python",
   "nbconvert_exporter": "python",
   "pygments_lexer": "ipython3",
   "version": "3.9.6"
  },
  "orig_nbformat": 4,
  "vscode": {
   "interpreter": {
    "hash": "25f08c7b3fae6a7f4c1c6807d0bfb3a94540b6919ec42402396b397047eb57cb"
   }
  }
 },
 "nbformat": 4,
 "nbformat_minor": 2
}
